{
 "cells": [
  {
   "cell_type": "code",
   "execution_count": null,
   "metadata": {},
   "outputs": [],
   "source": [
    "import nltk\n",
    "from nltk.book import *\n",
    "from collections import Counter"
   ]
  },
  {
   "cell_type": "markdown",
   "metadata": {},
   "source": [
    "## Code from Lecture\n",
    "\n",
    "1. What's the most common word in _Sense and Sensibility_? \n",
    "1. What's the probability of that word? \n",
    "1. How much more common is it than the next most common?"
   ]
  },
  {
   "cell_type": "markdown",
   "metadata": {},
   "source": [
    "Not specified in lecture, but typically you'd tokenize (maybe by removing non-alpha tokens and casting to lowercase). We'll hold off here."
   ]
  },
  {
   "cell_type": "code",
   "execution_count": null,
   "metadata": {},
   "outputs": [],
   "source": [
    "# Your code here"
   ]
  },
  {
   "cell_type": "markdown",
   "metadata": {},
   "source": [
    "---\n",
    "\n",
    "## Language Models\n",
    "\n",
    "Let's find some common n-grams in _Sense and Sensibility_. Now we'll start using the NLTK [`FreqDist`](https://stackoverflow.com/questions/4634787/freqdist-with-nltk) function, which is a fancy version of `Counter`. "
   ]
  },
  {
   "cell_type": "code",
   "execution_count": null,
   "metadata": {},
   "outputs": [],
   "source": [
    "# Feel free to play around with `fd` here to get a sense for these\n",
    "# objects\n",
    "fd = FreqDist(text5)"
   ]
  },
  {
   "cell_type": "markdown",
   "metadata": {},
   "source": [
    "Use the subsequent cell to play around with fd. Try typing `fd.` in the cell and see what the suggestions are. Learn a bit about what they do. There's more information [here](http://www.nltk.org/book/ch01.html#tab-freqdist)."
   ]
  },
  {
   "cell_type": "code",
   "execution_count": null,
   "metadata": {},
   "outputs": [],
   "source": [
    "fd.most_common(10)"
   ]
  },
  {
   "cell_type": "markdown",
   "metadata": {},
   "source": [
    "Now go through the book (`text2`) and build a new frequency distribution. Build one with all of the following attributes:\n",
    "\n",
    "1. Lowercase words\n",
    "1. Words that _aren't_ in the `stopword` list\n",
    "1. Words that pass the `isalpha` test. \n",
    "\n",
    "What's the frequency of \"the\" in both frequency distributions? How have the most common words changed? (Use the `most_common` method on the frequency distribution.)"
   ]
  },
  {
   "cell_type": "code",
   "execution_count": null,
   "metadata": {},
   "outputs": [],
   "source": [
    "sw = nltk.corpus.stopwords.words(\"english\") "
   ]
  },
  {
   "cell_type": "code",
   "execution_count": null,
   "metadata": {},
   "outputs": [],
   "source": [
    "# Your code here"
   ]
  },
  {
   "cell_type": "markdown",
   "metadata": {},
   "source": [
    "Sum up the total words in this second frequency distribution. Display the 20 most common words, their count, and their overall fraction of the books words. "
   ]
  },
  {
   "cell_type": "code",
   "execution_count": null,
   "metadata": {},
   "outputs": [],
   "source": [
    "total_words = 0 \n",
    "\n",
    "# your code here"
   ]
  },
  {
   "cell_type": "markdown",
   "metadata": {},
   "source": [
    "We can use this `FreqDist` function to look at common co-occurences of bigrams. NLTK provides a useful function, `ngrams`, that gives us the N-grams."
   ]
  },
  {
   "cell_type": "code",
   "execution_count": null,
   "metadata": {},
   "outputs": [],
   "source": [
    "ss_bigrams = nltk.ngrams(text2,2)"
   ]
  },
  {
   "cell_type": "code",
   "execution_count": null,
   "metadata": {},
   "outputs": [],
   "source": [
    "for idx, pair in enumerate(ss_bigrams) :\n",
    "    print(pair)\n",
    "    if idx > 20 :\n",
    "        break"
   ]
  },
  {
   "cell_type": "markdown",
   "metadata": {},
   "source": [
    "Build a frequency distribution of the bigrams in S&S and look at the most common ones.  "
   ]
  },
  {
   "cell_type": "code",
   "execution_count": null,
   "metadata": {},
   "outputs": [],
   "source": [
    "# Your code here"
   ]
  },
  {
   "cell_type": "markdown",
   "metadata": {},
   "source": [
    "Now, let's build a new frequency distribution of bigrams where the following hold true:\n",
    "1. All words to lowercase\n",
    "1. No bigrams where *both* words are in the `stopword` list\n",
    "1. Words that pass the `isalpha` test. \n",
    "\n",
    "Build this and display the 20 most common words. "
   ]
  },
  {
   "cell_type": "code",
   "execution_count": null,
   "metadata": {},
   "outputs": [],
   "source": [
    "clean_ss_bigrams = []\n",
    "\n",
    "# Your code here to fill in the \"clean_ss_bigrams\" list"
   ]
  },
  {
   "cell_type": "code",
   "execution_count": null,
   "metadata": {},
   "outputs": [],
   "source": [
    "clean_bi_fd = FreqDist(clean_ss_bigrams)"
   ]
  },
  {
   "cell_type": "code",
   "execution_count": null,
   "metadata": {},
   "outputs": [],
   "source": [
    "clean_bi_fd.most_common(20)"
   ]
  }
 ],
 "metadata": {
  "kernelspec": {
   "display_name": "Python 3",
   "language": "python",
   "name": "python3"
  },
  "language_info": {
   "codemirror_mode": {
    "name": "ipython",
    "version": 3
   },
   "file_extension": ".py",
   "mimetype": "text/x-python",
   "name": "python",
   "nbconvert_exporter": "python",
   "pygments_lexer": "ipython3",
   "version": "3.7.3"
  }
 },
 "nbformat": 4,
 "nbformat_minor": 1
}
